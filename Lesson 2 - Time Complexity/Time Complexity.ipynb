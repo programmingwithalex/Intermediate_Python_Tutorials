{
 "cells": [
  {
   "cell_type": "markdown",
   "id": "restricted-easter",
   "metadata": {},
   "source": [
    "# Time Complexity with Python"
   ]
  },
  {
   "cell_type": "markdown",
   "id": "married-switzerland",
   "metadata": {},
   "source": [
    "## When to Use\n",
    "---\n",
    "\n",
    "* Analyzing time complexity of an algorithm or any piece of code\n",
    "* Alomost always only consider **Big O** notation (gives upper bound on execution time of algorithm)"
   ]
  },
  {
   "cell_type": "markdown",
   "id": "western-proof",
   "metadata": {},
   "source": [
    "## When Will This Come Up\n",
    "---\n",
    "\n",
    "* Interviews, I guarantee it. It's not enough to write a solution, you must write the most time-efficient solution and also tell what the time complexity of that solution is\n",
    "* Optimizing code for speed (although there's plenty of packages that time code for you)"
   ]
  },
  {
   "cell_type": "markdown",
   "id": "described-night",
   "metadata": {},
   "source": [
    "## Three Types of Time Complexity\n",
    "---\n",
    "\n",
    "### 1. Big O (worse-case)\n",
    "### 2. Omega (best-case)\n",
    "### 3. Theta (average-case)\n",
    "\n",
    "---"
   ]
  },
  {
   "cell_type": "markdown",
   "id": "declared-password",
   "metadata": {},
   "source": [
    "## Examples of Big O\n",
    "---\n",
    "\n",
    "1. O(1)\n",
    "2. O(log N)\n",
    "3. O(N)\n",
    "4. O(N * log N)\n",
    "5. O(N<sup>2</sup>)\n",
    "6. O(N<sup>3</sup>)\n",
    "\n",
    "---"
   ]
  },
  {
   "cell_type": "markdown",
   "id": "designing-hundred",
   "metadata": {},
   "source": [
    "## 1. O(1)\n",
    "\n",
    "Time complexity does not depend on input data.\n",
    "\n",
    "#### Common cases:\n",
    "* index access list\n",
    "* dictionary lookup"
   ]
  },
  {
   "cell_type": "code",
   "execution_count": 1,
   "id": "logical-finance",
   "metadata": {},
   "outputs": [
    {
     "name": "stdout",
     "output_type": "stream",
     "text": [
      "4\n"
     ]
    }
   ],
   "source": [
    "# lookup or finding in dictionary is O(1)\n",
    "d = {'a': 4, 'b': 5, 'c': 5}\n",
    "print(d['a'])"
   ]
  },
  {
   "cell_type": "code",
   "execution_count": 2,
   "id": "becoming-limit",
   "metadata": {},
   "outputs": [
    {
     "name": "stdout",
     "output_type": "stream",
     "text": [
      "1\n"
     ]
    }
   ],
   "source": [
    "# index lookup in list is O(1), however finding an element in a list is O(N)\n",
    "l = [1, 2, 3, 4]\n",
    "print(l[0])"
   ]
  },
  {
   "cell_type": "markdown",
   "id": "focal-czech",
   "metadata": {},
   "source": [
    "---"
   ]
  },
  {
   "cell_type": "markdown",
   "id": "hungarian-henry",
   "metadata": {},
   "source": [
    "## 2. O(log N)\n",
    "\n",
    "The size of the input data is reduced in each step.\n",
    "\n",
    "#### Common cases:\n",
    "* binary trees\n",
    "* binary search"
   ]
  },
  {
   "cell_type": "markdown",
   "id": "centered-analyst",
   "metadata": {},
   "source": [
    "#### Real-world example:\n",
    "\n",
    "* Goal: look up name in the phone-book\n",
    "* Options:\n",
    "    * O(N): Go through every name one-by-one\n",
    "    * **O(log N)**: Narrow the list at each step by alphabetical ordering of phone book\n",
    "\n",
    "\n",
    "* Name: Max Holloway\n",
    "* Flip phone-book to M (cut out all other letters)\n",
    "* Limit to first names Max (cut out all other M names)\n",
    "* etc."
   ]
  },
  {
   "cell_type": "markdown",
   "id": "solid-cleanup",
   "metadata": {},
   "source": [
    "#### Programming example: Binary Search"
   ]
  },
  {
   "cell_type": "markdown",
   "id": "graduate-village",
   "metadata": {},
   "source": [
    "<img src=\"images/binary_tree_ordered.png\" width=\"400\">"
   ]
  },
  {
   "cell_type": "markdown",
   "id": "published-bumper",
   "metadata": {},
   "source": [
    "* total elements = 9\n",
    "* time to find if any one element exists or doesn't in the tree takes **O(log N)** time"
   ]
  },
  {
   "cell_type": "markdown",
   "id": "respiratory-framework",
   "metadata": {},
   "source": [
    "---"
   ]
  },
  {
   "cell_type": "markdown",
   "id": "changed-wilderness",
   "metadata": {},
   "source": [
    "## 3. O(N)\n",
    "\n",
    "Time complexity increases linearly with size of input data.\n",
    "\n",
    "### Common cases:\n",
    "* iterating through list\n",
    "* single for loop"
   ]
  },
  {
   "cell_type": "code",
   "execution_count": 3,
   "id": "paperback-notice",
   "metadata": {},
   "outputs": [],
   "source": [
    "# Big O is always worse-case\n",
    "\n",
    "def sum_list_by_n(l):\n",
    "    sum_ = 0\n",
    "    for x in l:\n",
    "        sum_ += x\n",
    "    \n",
    "    return sum_\n",
    "        \n",
    "l = list(range(100))"
   ]
  },
  {
   "cell_type": "code",
   "execution_count": 4,
   "id": "polyphonic-acrobat",
   "metadata": {},
   "outputs": [
    {
     "name": "stdout",
     "output_type": "stream",
     "text": [
      "12 µs ± 1.54 µs per loop (mean ± std. dev. of 7 runs, 30 loops each)\n"
     ]
    }
   ],
   "source": [
    "%timeit -r7 -n30 sum_list_by_n(l)"
   ]
  },
  {
   "cell_type": "markdown",
   "id": "third-commodity",
   "metadata": {},
   "source": [
    "* `-r` : number of runs\n",
    "* `-n` : number of loops"
   ]
  },
  {
   "cell_type": "markdown",
   "id": "still-collapse",
   "metadata": {},
   "source": [
    "## 4. O(N * log N)\n",
    "\n",
    "#### Common cases:\n",
    "* sorting algorithms (merge sort, quick sort, heap sort)"
   ]
  },
  {
   "cell_type": "markdown",
   "id": "curious-laser",
   "metadata": {},
   "source": [
    "<img src=\"images/binary_tree_ordered.png\" width=\"400\">"
   ]
  },
  {
   "cell_type": "markdown",
   "id": "streaming-float",
   "metadata": {},
   "source": [
    "* total elements = 9\n",
    "* time to find if any one element exists or doesn't in the tree takes O(log N) time\n",
    "* time to find all elements = N * O(log N) = O(N log N)"
   ]
  },
  {
   "cell_type": "markdown",
   "id": "variable-partner",
   "metadata": {},
   "source": [
    "## 5. O(N<sup>2</sup>)\n",
    "\n",
    "Time complexity increases linearly with each additional item in input data.\n",
    "\n",
    "### Common cases:\n",
    "* nested (two-level) for loop"
   ]
  },
  {
   "cell_type": "code",
   "execution_count": 5,
   "id": "tribal-supply",
   "metadata": {},
   "outputs": [],
   "source": [
    "def sum_list_by_2n(l):\n",
    "    sum_ = 0\n",
    "    for x in l:\n",
    "        for x in l:\n",
    "            sum_ += x\n",
    "    \n",
    "    return sum_\n",
    "        \n",
    "l = list(range(100))"
   ]
  },
  {
   "cell_type": "code",
   "execution_count": 6,
   "id": "tight-reynolds",
   "metadata": {},
   "outputs": [
    {
     "name": "stdout",
     "output_type": "stream",
     "text": [
      "10.5 µs ± 3.51 µs per loop (mean ± std. dev. of 7 runs, 30 loops each)\n"
     ]
    }
   ],
   "source": [
    "%timeit -r7 -n30 sum_list_by_n(l)"
   ]
  },
  {
   "cell_type": "code",
   "execution_count": 7,
   "id": "novel-million",
   "metadata": {},
   "outputs": [
    {
     "name": "stdout",
     "output_type": "stream",
     "text": [
      "1.05 ms ± 195 µs per loop (mean ± std. dev. of 7 runs, 30 loops each)\n"
     ]
    }
   ],
   "source": [
    "%timeit -r7 -n30 sum_list_by_2n(l)"
   ]
  },
  {
   "cell_type": "markdown",
   "id": "polish-cannon",
   "metadata": {},
   "source": [
    "---"
   ]
  },
  {
   "cell_type": "code",
   "execution_count": 8,
   "id": "unauthorized-framework",
   "metadata": {},
   "outputs": [],
   "source": [
    "# time complexity is O(N + M) -> because N and M are unknown in the function\n",
    "\n",
    "def sum_n_m(n, m):\n",
    "    sum_ = 0\n",
    "\n",
    "    for i in range(n):\n",
    "        for j in range(m):\n",
    "            sum_ += i + j\n",
    "    \n",
    "    return sum_"
   ]
  },
  {
   "cell_type": "code",
   "execution_count": 9,
   "id": "promising-renaissance",
   "metadata": {},
   "outputs": [
    {
     "name": "stdout",
     "output_type": "stream",
     "text": [
      "874 µs ± 382 µs per loop (mean ± std. dev. of 7 runs, 30 loops each)\n"
     ]
    }
   ],
   "source": [
    "%timeit -r7 -n30 sum_n_m(100, 50)"
   ]
  },
  {
   "cell_type": "markdown",
   "id": "beginning-parish",
   "metadata": {},
   "source": [
    "## 6. O(N<sup>3</sup>)\n",
    "\n",
    "### Common cases (should avoid these):\n",
    "* nested (three-level) for loop"
   ]
  },
  {
   "cell_type": "code",
   "execution_count": 10,
   "id": "blocked-sunday",
   "metadata": {},
   "outputs": [],
   "source": [
    "def sum_list_by_3n(l):\n",
    "    sum_ = 0\n",
    "    for x in l:\n",
    "        for x in l:\n",
    "            for x in l:\n",
    "                sum_ += x\n",
    "    \n",
    "    return sum_\n",
    "\n",
    "l = list(range(100))"
   ]
  },
  {
   "cell_type": "code",
   "execution_count": 11,
   "id": "several-month",
   "metadata": {},
   "outputs": [
    {
     "name": "stdout",
     "output_type": "stream",
     "text": [
      "14.6 µs ± 495 ns per loop (mean ± std. dev. of 7 runs, 30 loops each)\n"
     ]
    }
   ],
   "source": [
    "%timeit -r7 -n30 sum_list_by_n(l)"
   ]
  },
  {
   "cell_type": "code",
   "execution_count": 12,
   "id": "sophisticated-speaker",
   "metadata": {},
   "outputs": [
    {
     "name": "stdout",
     "output_type": "stream",
     "text": [
      "982 µs ± 207 µs per loop (mean ± std. dev. of 7 runs, 30 loops each)\n"
     ]
    }
   ],
   "source": [
    "%timeit -r7 -n30 sum_list_by_2n(l)"
   ]
  },
  {
   "cell_type": "code",
   "execution_count": 13,
   "id": "criminal-correlation",
   "metadata": {},
   "outputs": [
    {
     "name": "stdout",
     "output_type": "stream",
     "text": [
      "91 ms ± 1.26 ms per loop (mean ± std. dev. of 7 runs, 30 loops each)\n"
     ]
    }
   ],
   "source": [
    "%timeit -r7 -n30 sum_list_by_3n(l)"
   ]
  }
 ],
 "metadata": {
  "kernelspec": {
   "display_name": "Python 3",
   "language": "python",
   "name": "python3"
  },
  "language_info": {
   "codemirror_mode": {
    "name": "ipython",
    "version": 3
   },
   "file_extension": ".py",
   "mimetype": "text/x-python",
   "name": "python",
   "nbconvert_exporter": "python",
   "pygments_lexer": "ipython3",
   "version": "3.8.5"
  }
 },
 "nbformat": 4,
 "nbformat_minor": 5
}
