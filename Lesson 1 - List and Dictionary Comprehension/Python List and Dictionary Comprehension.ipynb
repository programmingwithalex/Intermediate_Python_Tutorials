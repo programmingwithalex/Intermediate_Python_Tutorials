{
 "cells": [
  {
   "cell_type": "markdown",
   "metadata": {},
   "source": [
    "### Why is list and dictionary comprehension used in Python?\n",
    "\n",
    "Both approaches offer a *simpler* approach to creating lists and dictionaries, which would otherwise require a `for` loop or something similar to create. For Python, simpler is always better.\n",
    "\n",
    "In addition, comprehension is more declarative. Meaning, it's easier to understand what is happening which aids not only yourself when writing code, but anyone else who happens to read your code.\n",
    "\n",
    "Comprehension = less code needed = easier time writing and understanding code.\n",
    "\n",
    "-----"
   ]
  },
  {
   "cell_type": "markdown",
   "metadata": {},
   "source": [
    "## Table of Contents\n",
    "\n",
    "1. What Comprehension Solves\n",
    "\n",
    "\n",
    "2. List Comprehension\n",
    "\n",
    "\n",
    "3. Dictionary Comprehension\n",
    "\n",
    "\n",
    "4. Conditional Comprehension\n",
    "\n",
    "    4.a. `if` Statement\n",
    "\n",
    "    4.b. `if-else` Statement\n",
    "    \n",
    "\n",
    "5. Comprehension with Functions\n",
    "\n",
    "\n",
    "6. When Not to Use Comprehension\n",
    "\n",
    "    6.a. Goal is Not to Create a List/Dictionary\n",
    "\n",
    "    6.b. Logic is Too Long"
   ]
  },
  {
   "cell_type": "markdown",
   "metadata": {},
   "source": [
    "---\n",
    "## 1. What Comprehension Solves"
   ]
  },
  {
   "cell_type": "code",
   "execution_count": 1,
   "metadata": {},
   "outputs": [
    {
     "data": {
      "text/plain": [
       "[4, 2, 100, 203, 0]"
      ]
     },
     "execution_count": 1,
     "metadata": {},
     "output_type": "execute_result"
    }
   ],
   "source": [
    "vals = [-4, -2, 100, -203, 0]\n",
    "\n",
    "for i in range(len(vals)):\n",
    "    vals[i] = abs(vals[i])\n",
    "    \n",
    "vals"
   ]
  },
  {
   "cell_type": "code",
   "execution_count": 2,
   "metadata": {},
   "outputs": [
    {
     "data": {
      "text/plain": [
       "[4, 2, 100, 203, 0]"
      ]
     },
     "execution_count": 2,
     "metadata": {},
     "output_type": "execute_result"
    }
   ],
   "source": [
    "vals = [-4, -2, 100, -203, 0]\n",
    "abs_vals = []\n",
    "\n",
    "for val in vals:\n",
    "    abs_vals.append(abs(val))\n",
    "    \n",
    "abs_vals"
   ]
  },
  {
   "cell_type": "markdown",
   "metadata": {},
   "source": [
    "Both methods give the desired result, but can be simplified into a single-line that is easier to understand at first glance."
   ]
  },
  {
   "cell_type": "markdown",
   "metadata": {},
   "source": [
    "---\n",
    "## 2. List Comprehension\n",
    "\n",
    "`new_list = [x for x in iterable]`"
   ]
  },
  {
   "cell_type": "code",
   "execution_count": 3,
   "metadata": {},
   "outputs": [
    {
     "name": "stdout",
     "output_type": "stream",
     "text": [
      "vals: [-4, -2, 100, -203, 0]\n",
      "abs_vals: [4, 2, 100, 203, 0]\n"
     ]
    }
   ],
   "source": [
    "vals = [-4, -2, 100, -203, 0]\n",
    "\n",
    "abs_vals = [abs(val) for val in vals]  # one-line now\n",
    "\n",
    "print(f'vals: {vals}')\n",
    "print(f'abs_vals: {abs_vals}')"
   ]
  },
  {
   "cell_type": "markdown",
   "metadata": {},
   "source": [
    "* List comprehension is creating a new `list` object (i.e. the `[` and `]` sorrounding the left side of the `=` operator.\n",
    "\n",
    "* The `for` loop goes inside the `list`.\n",
    "\n",
    "* The original list `vals` is unchanged, but instead a new list `abs_vals` is created."
   ]
  },
  {
   "cell_type": "code",
   "execution_count": 4,
   "metadata": {},
   "outputs": [
    {
     "data": {
      "text/plain": [
       "[16, 4, 10000, 41209, 0]"
      ]
     },
     "execution_count": 4,
     "metadata": {},
     "output_type": "execute_result"
    }
   ],
   "source": [
    "vals = [-4, -2, 100, -203, 0]\n",
    "\n",
    "square_vals = [x**2 for x in vals]\n",
    "\n",
    "square_vals"
   ]
  },
  {
   "cell_type": "code",
   "execution_count": 5,
   "metadata": {},
   "outputs": [
    {
     "data": {
      "text/plain": [
       "['Josh Koscheck', 'Forest Griffin', 'Johnny Hendricks']"
      ]
     },
     "execution_count": 5,
     "metadata": {},
     "output_type": "execute_result"
    }
   ],
   "source": [
    "names = ['josh koscheck', 'forest griffin', 'johnny hendricks']\n",
    "names = [name.title() for name in names]  # can assign list to itself\n",
    "\n",
    "names"
   ]
  },
  {
   "cell_type": "markdown",
   "metadata": {},
   "source": [
    "---\n",
    "## 3. Dictionary Comprehension\n",
    "\n",
    "`new_dic = {k:v for k,v in iterable}`"
   ]
  },
  {
   "cell_type": "code",
   "execution_count": 6,
   "metadata": {},
   "outputs": [
    {
     "data": {
      "text/plain": [
       "{'Josh Emmett': 4, 'Jon Jones': 20, 'Michael Chandler': 9}"
      ]
     },
     "execution_count": 6,
     "metadata": {},
     "output_type": "execute_result"
    }
   ],
   "source": [
    "days_absent = {'Josh Emmett': 4, 'Jon Jones': 20, 'Michael Chandler': -9}\n",
    "days_absent = {k:abs(v) for k,v in days_absent.items()}  # correcting for bad values\n",
    "\n",
    "days_absent"
   ]
  },
  {
   "cell_type": "code",
   "execution_count": 7,
   "metadata": {},
   "outputs": [
    {
     "data": {
      "text/plain": [
       "{'Tallahasse': 38.33, 'Miami': 42.78, 'Tampa': 35.0}"
      ]
     },
     "execution_count": 7,
     "metadata": {},
     "output_type": "execute_result"
    }
   ],
   "source": [
    "city_temps_farenheit = {'Tallahasse': 101, 'Miami': 109, 'Tampa': 95}\n",
    "\n",
    "city_temps_celcius = {k:round((v - 32) / 1.8, 2) for k,v in city_temps_farenheit.items()}\n",
    "\n",
    "city_temps_celcius"
   ]
  },
  {
   "cell_type": "code",
   "execution_count": 8,
   "metadata": {},
   "outputs": [
    {
     "ename": "ValueError",
     "evalue": "too many values to unpack (expected 2)",
     "output_type": "error",
     "traceback": [
      "\u001b[1;31m---------------------------------------------------------------------------\u001b[0m",
      "\u001b[1;31mValueError\u001b[0m                                Traceback (most recent call last)",
      "\u001b[1;32m<ipython-input-8-4a8abeeaf590>\u001b[0m in \u001b[0;36m<module>\u001b[1;34m\u001b[0m\n\u001b[0;32m      1\u001b[0m \u001b[0mcity_temps_farenheit\u001b[0m \u001b[1;33m=\u001b[0m \u001b[1;33m{\u001b[0m\u001b[1;34m'Tallahasse'\u001b[0m\u001b[1;33m:\u001b[0m \u001b[1;36m101\u001b[0m\u001b[1;33m,\u001b[0m \u001b[1;34m'Miami'\u001b[0m\u001b[1;33m:\u001b[0m \u001b[1;36m109\u001b[0m\u001b[1;33m,\u001b[0m \u001b[1;34m'Tampa'\u001b[0m\u001b[1;33m:\u001b[0m \u001b[1;36m95\u001b[0m\u001b[1;33m}\u001b[0m\u001b[1;33m\u001b[0m\u001b[1;33m\u001b[0m\u001b[0m\n\u001b[0;32m      2\u001b[0m \u001b[1;33m\u001b[0m\u001b[0m\n\u001b[1;32m----> 3\u001b[1;33m \u001b[0mcity_temps_celcius\u001b[0m \u001b[1;33m=\u001b[0m \u001b[1;33m{\u001b[0m\u001b[0mk\u001b[0m\u001b[1;33m:\u001b[0m\u001b[0mround\u001b[0m\u001b[1;33m(\u001b[0m\u001b[1;33m(\u001b[0m\u001b[0mv\u001b[0m \u001b[1;33m-\u001b[0m \u001b[1;36m32\u001b[0m\u001b[1;33m)\u001b[0m \u001b[1;33m/\u001b[0m \u001b[1;36m1.8\u001b[0m\u001b[1;33m,\u001b[0m \u001b[1;36m2\u001b[0m\u001b[1;33m)\u001b[0m \u001b[1;32mfor\u001b[0m \u001b[0mk\u001b[0m\u001b[1;33m,\u001b[0m\u001b[0mv\u001b[0m \u001b[1;32min\u001b[0m \u001b[0mcity_temps_farenheit\u001b[0m\u001b[1;33m}\u001b[0m  \u001b[1;31m# forgot .items()\u001b[0m\u001b[1;33m\u001b[0m\u001b[1;33m\u001b[0m\u001b[0m\n\u001b[0m\u001b[0;32m      4\u001b[0m \u001b[1;33m\u001b[0m\u001b[0m\n\u001b[0;32m      5\u001b[0m \u001b[0mcity_temps_celcius\u001b[0m\u001b[1;33m\u001b[0m\u001b[1;33m\u001b[0m\u001b[0m\n",
      "\u001b[1;32m<ipython-input-8-4a8abeeaf590>\u001b[0m in \u001b[0;36m<dictcomp>\u001b[1;34m(.0)\u001b[0m\n\u001b[0;32m      1\u001b[0m \u001b[0mcity_temps_farenheit\u001b[0m \u001b[1;33m=\u001b[0m \u001b[1;33m{\u001b[0m\u001b[1;34m'Tallahasse'\u001b[0m\u001b[1;33m:\u001b[0m \u001b[1;36m101\u001b[0m\u001b[1;33m,\u001b[0m \u001b[1;34m'Miami'\u001b[0m\u001b[1;33m:\u001b[0m \u001b[1;36m109\u001b[0m\u001b[1;33m,\u001b[0m \u001b[1;34m'Tampa'\u001b[0m\u001b[1;33m:\u001b[0m \u001b[1;36m95\u001b[0m\u001b[1;33m}\u001b[0m\u001b[1;33m\u001b[0m\u001b[1;33m\u001b[0m\u001b[0m\n\u001b[0;32m      2\u001b[0m \u001b[1;33m\u001b[0m\u001b[0m\n\u001b[1;32m----> 3\u001b[1;33m \u001b[0mcity_temps_celcius\u001b[0m \u001b[1;33m=\u001b[0m \u001b[1;33m{\u001b[0m\u001b[0mk\u001b[0m\u001b[1;33m:\u001b[0m\u001b[0mround\u001b[0m\u001b[1;33m(\u001b[0m\u001b[1;33m(\u001b[0m\u001b[0mv\u001b[0m \u001b[1;33m-\u001b[0m \u001b[1;36m32\u001b[0m\u001b[1;33m)\u001b[0m \u001b[1;33m/\u001b[0m \u001b[1;36m1.8\u001b[0m\u001b[1;33m,\u001b[0m \u001b[1;36m2\u001b[0m\u001b[1;33m)\u001b[0m \u001b[1;32mfor\u001b[0m \u001b[0mk\u001b[0m\u001b[1;33m,\u001b[0m\u001b[0mv\u001b[0m \u001b[1;32min\u001b[0m \u001b[0mcity_temps_farenheit\u001b[0m\u001b[1;33m}\u001b[0m  \u001b[1;31m# forgot .items()\u001b[0m\u001b[1;33m\u001b[0m\u001b[1;33m\u001b[0m\u001b[0m\n\u001b[0m\u001b[0;32m      4\u001b[0m \u001b[1;33m\u001b[0m\u001b[0m\n\u001b[0;32m      5\u001b[0m \u001b[0mcity_temps_celcius\u001b[0m\u001b[1;33m\u001b[0m\u001b[1;33m\u001b[0m\u001b[0m\n",
      "\u001b[1;31mValueError\u001b[0m: too many values to unpack (expected 2)"
     ]
    }
   ],
   "source": [
    "city_temps_farenheit = {'Tallahasse': 101, 'Miami': 109, 'Tampa': 95}\n",
    "\n",
    "city_temps_celcius = {k:round((v - 32) / 1.8, 2) for k,v in city_temps_farenheit}  # forgot .items()\n",
    "\n",
    "city_temps_celcius"
   ]
  },
  {
   "cell_type": "markdown",
   "metadata": {},
   "source": [
    "---\n",
    "## 4. Conditional Comprehension"
   ]
  },
  {
   "cell_type": "markdown",
   "metadata": {},
   "source": [
    "---\n",
    "### 4.a. `if` Statement\n",
    "\n",
    "`new_list = [x for x in iterable if conditional]`\n",
    "\n",
    "`new_dic = {k:v for k,v in iterable if conditional}`\n",
    "\n",
    "Purpose: Filter out values in comprehension that you don't want in the new list/dict."
   ]
  },
  {
   "cell_type": "code",
   "execution_count": 9,
   "metadata": {},
   "outputs": [
    {
     "data": {
      "text/plain": [
       "[10000, 0]"
      ]
     },
     "execution_count": 9,
     "metadata": {},
     "output_type": "execute_result"
    }
   ],
   "source": [
    "vals = [-4, -2, 100, -203, 0]\n",
    "\n",
    "square_vals = [x**2 for x in vals if x >= 0]\n",
    "\n",
    "square_vals"
   ]
  },
  {
   "cell_type": "code",
   "execution_count": 10,
   "metadata": {},
   "outputs": [
    {
     "data": {
      "text/plain": [
       "{'Tallahasse': 38.33, 'Tampa': 35.0}"
      ]
     },
     "execution_count": 10,
     "metadata": {},
     "output_type": "execute_result"
    }
   ],
   "source": [
    "city_temps_farenheit = {'Tallahasse': 101, 'Miami': 109, 'Tampa': 95}\n",
    "\n",
    "city_temps_celcius = {k:round((v - 32) / 1.8, 2) for k,v in city_temps_farenheit.items() if k.startswith('T')}\n",
    "\n",
    "city_temps_celcius"
   ]
  },
  {
   "cell_type": "markdown",
   "metadata": {},
   "source": [
    "* `if` conditional is at the end of the list/dict comprehension"
   ]
  },
  {
   "cell_type": "markdown",
   "metadata": {},
   "source": [
    "---\n",
    "### 4.b. `if-else` Statement\n",
    "\n",
    "`new_list = [x if conditional else y for x in iterable]`\n",
    "\n",
    "`new_dic = {k:v if conditional else y for k,v in iterable}`\n",
    "\n",
    "Purpose: Replace or apply different logic to certain values in the input list/dict for the comprehension."
   ]
  },
  {
   "cell_type": "code",
   "execution_count": 11,
   "metadata": {},
   "outputs": [
    {
     "data": {
      "text/plain": [
       "[0, 0, 10000, 0, 0]"
      ]
     },
     "execution_count": 11,
     "metadata": {},
     "output_type": "execute_result"
    }
   ],
   "source": [
    "vals = [-4, -2, 100, -203, 0]\n",
    "\n",
    "square_vals = [x**2 if x >= 0 else 0 for x in vals]\n",
    "\n",
    "square_vals"
   ]
  },
  {
   "cell_type": "code",
   "execution_count": 12,
   "metadata": {},
   "outputs": [
    {
     "data": {
      "text/plain": [
       "{'Tallahasse': 38.33, 'Miami': 109, 'Tampa': 35.0}"
      ]
     },
     "execution_count": 12,
     "metadata": {},
     "output_type": "execute_result"
    }
   ],
   "source": [
    "city_temps_farenheit = {'Tallahasse': 101, 'Miami': 109, 'Tampa': 95}\n",
    "\n",
    "city_temps_celcius = {k:round((v - 32) / 1.8, 2) if k.startswith('T') else v for k,v in city_temps_farenheit.items()}\n",
    "\n",
    "city_temps_celcius"
   ]
  },
  {
   "cell_type": "markdown",
   "metadata": {},
   "source": [
    "* `if-else` conditional is at the beginning, right after the expression, of the list/dict comprehension"
   ]
  },
  {
   "cell_type": "markdown",
   "metadata": {},
   "source": [
    "---\n",
    "## 5. Comprehension with Functions\n",
    "\n",
    "Purpose: \n",
    "1. Logic in comprehension would be better suited to a named function.\n",
    "2. Logic is too long to apply to comprehension."
   ]
  },
  {
   "cell_type": "code",
   "execution_count": 13,
   "metadata": {},
   "outputs": [
    {
     "data": {
      "text/plain": [
       "{'Tallahasse': 38.33, 'Miami': 42.78, 'Tampa': 35.0}"
      ]
     },
     "execution_count": 13,
     "metadata": {},
     "output_type": "execute_result"
    }
   ],
   "source": [
    "def farenheit_to_celcius(temp_farenheit):\n",
    "    return round((temp_farenheit - 32) / 1.8, 2)\n",
    "\n",
    "city_temps_farenheit = {'Tallahasse': 101, 'Miami': 109, 'Tampa': 95}\n",
    "\n",
    "city_temps_celcius = {k:farenheit_to_celcius(v) for k,v in city_temps_farenheit.items()}  # more readable\n",
    "\n",
    "city_temps_celcius"
   ]
  },
  {
   "cell_type": "code",
   "execution_count": 14,
   "metadata": {},
   "outputs": [
    {
     "data": {
      "text/plain": [
       "['first_name: Dana, middle_name: Frederick, last_name: White',\n",
       " 'first_name: John, middle_name: Patrick, last_name: Mccarthy',\n",
       " 'first_name: Joseph, middle_name: James, last_name: Rogan',\n",
       " 'Name too long, 3 max.',\n",
       " 'Name is empty, must have at least one name.']"
      ]
     },
     "execution_count": 14,
     "metadata": {},
     "output_type": "execute_result"
    }
   ],
   "source": [
    "def assign_name(name):\n",
    "    name = name.title()\n",
    "    name_lst = name.split()\n",
    "    \n",
    "    if len(name_lst) > 3:\n",
    "        return 'Name too long, 3 max.'\n",
    "    elif len(name_lst) == 3:\n",
    "        return f'first_name: {name_lst[0]}, middle_name: {name_lst[1]}, last_name: {name_lst[2]}'\n",
    "    elif len(name_lst) == 2:\n",
    "        return f'first_name: {name_lst[0]}, last_name: {name_lst[2]}'\n",
    "    elif len(name_lst) == 1:\n",
    "        return f'first_name: {name_lst[0]}'\n",
    "    else:\n",
    "        return 'Name is empty, must have at least one name.'\n",
    "        \n",
    "    \n",
    "names = ['dana frederick white', 'john patrick mccarthy', 'joseph james rogan', 'Roy Levesta Jones Jr.', '']\n",
    "\n",
    "[assign_name(name) for name in names]"
   ]
  },
  {
   "cell_type": "markdown",
   "metadata": {},
   "source": [
    "Multiple logic statements need to be applied conditionally, so must separate out into function."
   ]
  },
  {
   "cell_type": "markdown",
   "metadata": {},
   "source": [
    "---\n",
    "## 6. When Not to Use Comprehension"
   ]
  },
  {
   "cell_type": "markdown",
   "metadata": {},
   "source": [
    "---\n",
    "### 6.a. Goal is Not to Create a List/Dictionary"
   ]
  },
  {
   "cell_type": "code",
   "execution_count": 15,
   "metadata": {},
   "outputs": [
    {
     "data": {
      "text/plain": [
       "131"
      ]
     },
     "execution_count": 15,
     "metadata": {},
     "output_type": "execute_result"
    }
   ],
   "source": [
    "vals = [3, 4, 5, 9]\n",
    "total_squares = sum([x**2 for x in vals])  # list object is created, which in unnecessary since it's never used\n",
    "\n",
    "total_squares"
   ]
  },
  {
   "cell_type": "code",
   "execution_count": 16,
   "metadata": {},
   "outputs": [
    {
     "data": {
      "text/plain": [
       "131"
      ]
     },
     "execution_count": 16,
     "metadata": {},
     "output_type": "execute_result"
    }
   ],
   "source": [
    "vals = [3, 4, 5, 9]\n",
    "total_squares = sum((x**2 for x in vals))  # generator (no list object is created)\n",
    "\n",
    "total_squares"
   ]
  },
  {
   "cell_type": "markdown",
   "metadata": {},
   "source": [
    "**Real-world example:**\n",
    "\n",
    "`cars` = List of class `Car` objects\n",
    "\n",
    "Want to set the color of every `car` in `cars` to \"red\". There is no need to create a new `cars` list, just need to apply to function to every car. So it makes more sense to use a `for` loop here.\n",
    "\n",
    "```\n",
    "for car in cars:\n",
    "    car.set_color('red')\n",
    "```\n",
    "\n",
    "Could still use list comprehension here, just something to think about if conscious about space vs readability."
   ]
  },
  {
   "cell_type": "markdown",
   "metadata": {},
   "source": [
    "---\n",
    "### 6.b. Logic is Too Long"
   ]
  },
  {
   "cell_type": "code",
   "execution_count": 17,
   "metadata": {},
   "outputs": [
    {
     "data": {
      "text/plain": [
       "[3, 100]"
      ]
     },
     "execution_count": 17,
     "metadata": {},
     "output_type": "execute_result"
    }
   ],
   "source": [
    "vals1 = [3, 4, -2, -1, 50, 100]\n",
    "vals2 = [-1, 10, 9, 8, 3, 1]\n",
    "vals3 = [64, 5, 33, 31, 0, 99]\n",
    "\n",
    "\n",
    "[vals1[i] for i in range(len(vals1)) if (vals1[i] > 0) and (vals2[i]**3 - 1 < 400) and ((vals3[i] - 32) / 1.8 > 0)]"
   ]
  },
  {
   "cell_type": "code",
   "execution_count": 18,
   "metadata": {},
   "outputs": [
    {
     "data": {
      "text/plain": [
       "[3, 100]"
      ]
     },
     "execution_count": 18,
     "metadata": {},
     "output_type": "execute_result"
    }
   ],
   "source": [
    "# Alternative 1 - make statement multi-line\n",
    "[\n",
    "    vals1[i] for i in range(len(vals1))\n",
    "    if (vals1[i] > 0) and\n",
    "    (vals2[i]**3 - 1 < 400) and\n",
    "    ((vals3[i] - 32) / 1.8 > 0)\n",
    "]"
   ]
  },
  {
   "cell_type": "code",
   "execution_count": 19,
   "metadata": {},
   "outputs": [
    {
     "data": {
      "text/plain": [
       "[3, 100]"
      ]
     },
     "execution_count": 19,
     "metadata": {},
     "output_type": "execute_result"
    }
   ],
   "source": [
    "## Alternative 2 - for loop\n",
    "result = []\n",
    "\n",
    "for i in range(len(vals1)):\n",
    "    if vals1[i] > 0:\n",
    "        if vals2[i]**3 - 1 < 400:\n",
    "            if (vals3[i] - 32) / 1.8 > 0:\n",
    "                result.append(vals1[i])\n",
    "\n",
    "result"
   ]
  }
 ],
 "metadata": {
  "kernelspec": {
   "display_name": "Python 3",
   "language": "python",
   "name": "python3"
  },
  "language_info": {
   "codemirror_mode": {
    "name": "ipython",
    "version": 3
   },
   "file_extension": ".py",
   "mimetype": "text/x-python",
   "name": "python",
   "nbconvert_exporter": "python",
   "pygments_lexer": "ipython3",
   "version": "3.7.4"
  }
 },
 "nbformat": 4,
 "nbformat_minor": 4
}
